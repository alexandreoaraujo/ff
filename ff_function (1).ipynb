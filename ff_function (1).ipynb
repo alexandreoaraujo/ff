{
  "cells": [
    {
      "cell_type": "code",
      "execution_count": 1,
      "metadata": {
        "id": "OpsX8z2Q225D"
      },
      "outputs": [],
      "source": [
        "import pandas as pd\n",
        "import numpy as np\n",
        "from datetime import datetime, timedelta\n",
        "import yfinance as yf\n",
        "import statsmodels.api as sm\n",
        "import matplotlib.pyplot as plt"
      ]
    },
    {
      "cell_type": "code",
      "execution_count": 2,
      "metadata": {
        "colab": {
          "base_uri": "https://localhost:8080/",
          "height": 455
        },
        "collapsed": true,
        "id": "tHyG3vuq29FS",
        "outputId": "01a08121-378c-4062-9963-45b50503c7e2"
      },
      "outputs": [],
      "source": [
        "# Período de análise\n",
        "fim = '2024-12-31'\n",
        "inicio = '2020-01-01'\n",
        "\n",
        "# Links dados\n",
        "file_id_retornos = '1LwdNahnjNtBqskAbc_mCH-RGfsN6dBlH'\n",
        "url_retornos = f'https://drive.google.com/uc?export=download&id={file_id_retornos}'\n",
        "file_id_fund = '1T48tX8l1TWAomQYqTAFxI2c6Lz6-6qQ0'\n",
        "url_fund = f'https://drive.google.com/uc?export=download&id={file_id_fund}'\n",
        "file_id_taxas = '1j7xHdf7f5jWTlAan4sEr4WQePt3Rw5us'\n",
        "url_taxas = f'https://drive.google.com/uc?export=download&id={file_id_taxas}'"
      ]
    },
    {
      "cell_type": "code",
      "execution_count": 55,
      "metadata": {},
      "outputs": [],
      "source": [
        "# Importação dos dados\n",
        "\n",
        "def importar_retornos(url, inicio, fim):\n",
        "    retornos = pd.read_parquet(url)\n",
        "    retornos = retornos[(retornos.index >= inicio) & (retornos.index <= fim)]\n",
        "    retornos = retornos.dropna(axis=1, how='any')\n",
        "    return retornos\n",
        "\n",
        "def importar_fund(url):\n",
        "    fundamentus = pd.read_parquet(url)\n",
        "    fundamentus = fundamentus[fundamentus['pl'] > 0]\n",
        "    fundamentus[\n",
        "        (fundamentus['ult_balanco'] >= '2024-12-31') &\n",
        "        (fundamentus['ult_preco'] > '2024-12-31')\n",
        "        ]\n",
        "    fundamentus['ult_preco'] = pd.to_datetime(fundamentus['ult_preco'], errors='coerce') # transformando as colunas de data em datetime\n",
        "    fundamentus['ult_balanco'] = pd.to_datetime(fundamentus['ult_balanco'], errors='coerce')\n",
        "    return fundamentus\n",
        "\n",
        "def importar_taxas(url, inicio, fim): # esse já é o retorno do ibov\n",
        "    taxas = pd.read_parquet(url)\n",
        "    taxas = taxas[(taxas.index >= inicio) & (taxas.index <= fim)]\n",
        "    taxas = taxas.dropna(axis=1, how='any')\n",
        "    return taxas"
      ]
    },
    {
      "cell_type": "code",
      "execution_count": 56,
      "metadata": {},
      "outputs": [],
      "source": [
        "# Filtrando as empresas que serão analisadas\n",
        "\n",
        "def filtrar_fundamentus(fundamentus, retornos):\n",
        "    # Filtrando as empresas que estão na base de preços\n",
        "    df_fund = fundamentus[fundamentus['Papel'].isin(retornos.columns)]\n",
        "    return df_fund"
      ]
    },
    {
      "cell_type": "code",
      "execution_count": 57,
      "metadata": {},
      "outputs": [],
      "source": [
        "# Processamento dos dados\n",
        "\n",
        "def book_to_market(df_fund):\n",
        "    df_fund['btm'] = df_fund['pl'] / df_fund['market_cap']\n",
        "    return df_fund\n",
        "\n",
        "def calc_avg_size(df_fund): \n",
        "    avg_size = df_fund['market_cap'].mean()\n",
        "    return avg_size\n",
        "\n",
        "def calc_agv_btm(df_fund):\n",
        "    avg_btm = df_fund['btm'].mean()\n",
        "    return avg_btm\n",
        "\n",
        "def classificar_empresas(df_fund):\n",
        "    avg_size = calc_avg_size(df_fund)\n",
        "    avg_btm = calc_agv_btm(df_fund)\n",
        "    big = df_fund[df_fund['market_cap'] > avg_size]['Papel'].tolist()\n",
        "    small = df_fund[df_fund['market_cap'] <= avg_size]['Papel'].tolist()\n",
        "    high = df_fund[df_fund['btm'] > avg_btm]['Papel'].tolist()\n",
        "    low = df_fund[df_fund['btm'] <= avg_btm]['Papel'].tolist()\n",
        "    return big, small, high, low"
      ]
    },
    {
      "cell_type": "code",
      "execution_count": 58,
      "metadata": {},
      "outputs": [],
      "source": [
        "# Criando os fatores SMB e HML\n",
        "\n",
        "def fatores(retornos, big, small, high, low):\n",
        "    retornos['smb'] = retornos[small].mean(axis=1) - retornos[big].mean(axis=1)\n",
        "    retornos['hml'] = retornos[high].mean(axis=1) - retornos[low].mean(axis=1)\n",
        "    return retornos"
      ]
    },
    {
      "cell_type": "code",
      "execution_count": 59,
      "metadata": {},
      "outputs": [],
      "source": [
        "# Calculando retorno de mercado\n",
        "def calc_dados_mercado(taxas):\n",
        "    taxas['mkt'] = taxas['ibov'] - taxas['selic']\n",
        "    return taxas\n"
      ]
    },
    {
      "cell_type": "code",
      "execution_count": 60,
      "metadata": {},
      "outputs": [
        {
          "data": {
            "text/html": [
              "<div>\n",
              "<style scoped>\n",
              "    .dataframe tbody tr th:only-of-type {\n",
              "        vertical-align: middle;\n",
              "    }\n",
              "\n",
              "    .dataframe tbody tr th {\n",
              "        vertical-align: top;\n",
              "    }\n",
              "\n",
              "    .dataframe thead th {\n",
              "        text-align: right;\n",
              "    }\n",
              "</style>\n",
              "<table border=\"1\" class=\"dataframe\">\n",
              "  <thead>\n",
              "    <tr style=\"text-align: right;\">\n",
              "      <th></th>\n",
              "      <th>ibov</th>\n",
              "      <th>selic</th>\n",
              "      <th>mkt</th>\n",
              "    </tr>\n",
              "    <tr>\n",
              "      <th>Date</th>\n",
              "      <th></th>\n",
              "      <th></th>\n",
              "      <th></th>\n",
              "    </tr>\n",
              "  </thead>\n",
              "  <tbody>\n",
              "    <tr>\n",
              "      <th>2020-01-03</th>\n",
              "      <td>-0.007330</td>\n",
              "      <td>0.017089</td>\n",
              "      <td>-0.024419</td>\n",
              "    </tr>\n",
              "    <tr>\n",
              "      <th>2020-01-06</th>\n",
              "      <td>-0.007068</td>\n",
              "      <td>0.017089</td>\n",
              "      <td>-0.024157</td>\n",
              "    </tr>\n",
              "    <tr>\n",
              "      <th>2020-01-07</th>\n",
              "      <td>-0.001850</td>\n",
              "      <td>0.017089</td>\n",
              "      <td>-0.018939</td>\n",
              "    </tr>\n",
              "    <tr>\n",
              "      <th>2020-01-08</th>\n",
              "      <td>-0.003564</td>\n",
              "      <td>0.017089</td>\n",
              "      <td>-0.020653</td>\n",
              "    </tr>\n",
              "    <tr>\n",
              "      <th>2020-01-09</th>\n",
              "      <td>-0.002584</td>\n",
              "      <td>0.017089</td>\n",
              "      <td>-0.019673</td>\n",
              "    </tr>\n",
              "    <tr>\n",
              "      <th>...</th>\n",
              "      <td>...</td>\n",
              "      <td>...</td>\n",
              "      <td>...</td>\n",
              "    </tr>\n",
              "    <tr>\n",
              "      <th>2024-12-20</th>\n",
              "      <td>0.007514</td>\n",
              "      <td>0.045513</td>\n",
              "      <td>-0.037999</td>\n",
              "    </tr>\n",
              "    <tr>\n",
              "      <th>2024-12-23</th>\n",
              "      <td>-0.010994</td>\n",
              "      <td>0.045513</td>\n",
              "      <td>-0.056507</td>\n",
              "    </tr>\n",
              "    <tr>\n",
              "      <th>2024-12-26</th>\n",
              "      <td>0.002572</td>\n",
              "      <td>0.045513</td>\n",
              "      <td>-0.042941</td>\n",
              "    </tr>\n",
              "    <tr>\n",
              "      <th>2024-12-27</th>\n",
              "      <td>-0.006704</td>\n",
              "      <td>0.045513</td>\n",
              "      <td>-0.052217</td>\n",
              "    </tr>\n",
              "    <tr>\n",
              "      <th>2024-12-30</th>\n",
              "      <td>0.000116</td>\n",
              "      <td>0.045513</td>\n",
              "      <td>-0.045397</td>\n",
              "    </tr>\n",
              "  </tbody>\n",
              "</table>\n",
              "<p>1243 rows × 3 columns</p>\n",
              "</div>"
            ],
            "text/plain": [
              "                ibov     selic       mkt\n",
              "Date                                    \n",
              "2020-01-03 -0.007330  0.017089 -0.024419\n",
              "2020-01-06 -0.007068  0.017089 -0.024157\n",
              "2020-01-07 -0.001850  0.017089 -0.018939\n",
              "2020-01-08 -0.003564  0.017089 -0.020653\n",
              "2020-01-09 -0.002584  0.017089 -0.019673\n",
              "...              ...       ...       ...\n",
              "2024-12-20  0.007514  0.045513 -0.037999\n",
              "2024-12-23 -0.010994  0.045513 -0.056507\n",
              "2024-12-26  0.002572  0.045513 -0.042941\n",
              "2024-12-27 -0.006704  0.045513 -0.052217\n",
              "2024-12-30  0.000116  0.045513 -0.045397\n",
              "\n",
              "[1243 rows x 3 columns]"
            ]
          },
          "execution_count": 60,
          "metadata": {},
          "output_type": "execute_result"
        }
      ],
      "source": [
        "dados_mercado"
      ]
    },
    {
      "cell_type": "code",
      "execution_count": 61,
      "metadata": {},
      "outputs": [],
      "source": [
        "# Montando base para rodar o modelo\n",
        "def base_modelo(retornos, dados_mercado, papel):\n",
        "    dados = retornos[[papel,'smb','hml']].join(dados_mercado[['selic','mkt']], how='inner')\n",
        "    dados = dados.dropna()\n",
        "    dados['excesso'] = dados[papel] - dados['selic']\n",
        "    return dados"
      ]
    },
    {
      "cell_type": "code",
      "execution_count": 62,
      "metadata": {},
      "outputs": [],
      "source": [
        "# Aplicação do modelo\n",
        "\n",
        "def estimar_modelo(dados):\n",
        "    X = dados[['mkt', 'smb', 'hml']]\n",
        "    X = sm.add_constant(X)  # Adiciona a constante ao modelo\n",
        "    y = dados['excesso']\n",
        "    modelo = sm.OLS(y, X).fit()\n",
        "    estimado = modelo.predict(X)\n",
        "    resultados = modelo.summary()\n",
        "    return estimado, y, resultados"
      ]
    },
    {
      "cell_type": "code",
      "execution_count": 63,
      "metadata": {},
      "outputs": [],
      "source": [
        "# Plot dos resultados\n",
        "def plotar_resultados(estimado, y, papel):\n",
        "    plt.figure(figsize=(8, 6))\n",
        "    plt.scatter(estimado, y, alpha=0.6)\n",
        "    plt.plot([-0.1, 0.1], [-0.1, 0.1], color='red', linestyle='--')\n",
        "    plt.xlabel(\"Estimated risk-premium\")\n",
        "    plt.ylabel(\"Observed risk-premium\")\n",
        "    plt.title(f\"Fama-French model for {papel}\")\n",
        "    plt.grid(True)\n",
        "    plt.show()"
      ]
    },
    {
      "cell_type": "markdown",
      "metadata": {
        "id": "u1KnYh6wmPLb"
      },
      "source": [
        "Aplicação do modelo"
      ]
    },
    {
      "cell_type": "code",
      "execution_count": 64,
      "metadata": {},
      "outputs": [],
      "source": [
        "retornos = importar_retornos(url_retornos, inicio, fim)\n",
        "fundamentus = importar_fund(url_fund)\n",
        "taxas = importar_taxas(url_taxas, inicio, fim)\n"
      ]
    },
    {
      "cell_type": "code",
      "execution_count": 65,
      "metadata": {},
      "outputs": [
        {
          "name": "stderr",
          "output_type": "stream",
          "text": [
            "C:\\Users\\alexa\\AppData\\Local\\Temp\\ipykernel_17412\\358626321.py:4: SettingWithCopyWarning: \n",
            "A value is trying to be set on a copy of a slice from a DataFrame.\n",
            "Try using .loc[row_indexer,col_indexer] = value instead\n",
            "\n",
            "See the caveats in the documentation: https://pandas.pydata.org/pandas-docs/stable/user_guide/indexing.html#returning-a-view-versus-a-copy\n",
            "  df_fund['btm'] = df_fund['pl'] / df_fund['market_cap']\n"
          ]
        }
      ],
      "source": [
        "df_fund = filtrar_fundamentus(fundamentus, retornos)\n",
        "df_fund = book_to_market(df_fund)"
      ]
    },
    {
      "cell_type": "code",
      "execution_count": 66,
      "metadata": {},
      "outputs": [],
      "source": [
        "big, small, high, low = classificar_empresas(df_fund)\n",
        "retornos = fatores(retornos, big, small, high, low)\n",
        "dados_mercado = calc_dados_mercado(taxas)"
      ]
    },
    {
      "cell_type": "code",
      "execution_count": 67,
      "metadata": {},
      "outputs": [],
      "source": [
        "papel = 'PETR4'  # Exemplo de papel"
      ]
    },
    {
      "cell_type": "code",
      "execution_count": 68,
      "metadata": {},
      "outputs": [],
      "source": [
        "dados = base_modelo(retornos, dados_mercado, papel)\n",
        "estimado, y, resultados = estimar_modelo(dados)"
      ]
    },
    {
      "cell_type": "code",
      "execution_count": 69,
      "metadata": {},
      "outputs": [
        {
          "name": "stdout",
          "output_type": "stream",
          "text": [
            "                            OLS Regression Results                            \n",
            "==============================================================================\n",
            "Dep. Variable:                excesso   R-squared:                       0.636\n",
            "Model:                            OLS   Adj. R-squared:                  0.635\n",
            "Method:                 Least Squares   F-statistic:                     722.0\n",
            "Date:                Thu, 15 May 2025   Prob (F-statistic):          2.28e-271\n",
            "Time:                        10:26:07   Log-Likelihood:                 3098.7\n",
            "No. Observations:                1243   AIC:                            -6189.\n",
            "Df Residuals:                    1239   BIC:                            -6169.\n",
            "Df Model:                           3                                         \n",
            "Covariance Type:            nonrobust                                         \n",
            "==============================================================================\n",
            "                 coef    std err          t      P>|t|      [0.025      0.975]\n",
            "------------------------------------------------------------------------------\n",
            "const          0.0034      0.001      3.191      0.001       0.001       0.005\n",
            "mkt            1.0807      0.028     38.989      0.000       1.026       1.135\n",
            "smb           -0.5345      0.095     -5.627      0.000      -0.721      -0.348\n",
            "hml            0.0725      0.124      0.583      0.560      -0.171       0.316\n",
            "==============================================================================\n",
            "Omnibus:                      673.329   Durbin-Watson:                   1.921\n",
            "Prob(Omnibus):                  0.000   Jarque-Bera (JB):            16664.309\n",
            "Skew:                          -1.990   Prob(JB):                         0.00\n",
            "Kurtosis:                      20.490   Cond. No.                         235.\n",
            "==============================================================================\n",
            "\n",
            "Notes:\n",
            "[1] Standard Errors assume that the covariance matrix of the errors is correctly specified.\n"
          ]
        }
      ],
      "source": [
        "print(resultados)"
      ]
    },
    {
      "cell_type": "code",
      "execution_count": 70,
      "metadata": {},
      "outputs": [
        {
          "data": {
            "image/png": "[encoded data removed]",
            "text/plain": [
              "<Figure size 800x600 with 1 Axes>"
            ]
          },
          "metadata": {},
          "output_type": "display_data"
        }
      ],
      "source": [
        "plotar_resultados(estimado, y, papel)"
      ]
    }
  ],
  "metadata": {
    "colab": {
      "provenance": []
    },
    "kernelspec": {
      "display_name": "Python 3",
      "name": "python3"
    },
    "language_info": {
      "codemirror_mode": {
        "name": "ipython",
        "version": 3
      },
      "file_extension": ".py",
      "mimetype": "text/x-python",
      "name": "python",
      "nbconvert_exporter": "python",
      "pygments_lexer": "ipython3",
      "version": "3.13.1"
    }
  },
  "nbformat": 4,
  "nbformat_minor": 0
}
